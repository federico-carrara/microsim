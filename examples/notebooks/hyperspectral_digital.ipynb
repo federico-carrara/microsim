{
 "cells": [
  {
   "cell_type": "code",
   "execution_count": null,
   "metadata": {},
   "outputs": [],
   "source": [
    "from microsim import schema as ms\n",
    "import numpy as np"
   ]
  },
  {
   "cell_type": "code",
   "execution_count": null,
   "metadata": {},
   "outputs": [],
   "source": [
    "# Define a simple Filter through a function that allows us to set min and max values for the spectrum\n",
    "def create_custom_channel(\n",
    "    min_wave: int = 300, \n",
    "    max_wave: int = 800,\n",
    ") -> ms.optical_config.OpticalConfig:\n",
    "\n",
    "    custom_spectrum = ms.Spectrum(\n",
    "        wavelength=np.arange(min_wave, max_wave, 1),\n",
    "        intensity=np.ones(max_wave - min_wave),\n",
    "    )\n",
    "\n",
    "    custom_filter = ms.optical_config.SpectrumFilter(transmission=custom_spectrum) # placement=ALL by default\n",
    "\n",
    "    custom_channel = ms.optical_config.OpticalConfig(\n",
    "        name=\"FEDERICO\",\n",
    "        filters=[custom_filter],\n",
    "    )\n",
    "    \n",
    "    return custom_channel"
   ]
  },
  {
   "cell_type": "code",
   "execution_count": null,
   "metadata": {},
   "outputs": [],
   "source": [
    "my_ch = create_custom_channel()\n",
    "\n",
    "print(my_ch.filters[0].spectrum)\n",
    "print(my_ch.filters[0].spectrum.wavelength.shape, type(my_ch.filters[0].spectrum.wavelength))\n",
    "print(my_ch.filters[0].spectrum.intensity.shape, type(my_ch.filters[0].spectrum.intensity), max(my_ch.filters[0].spectrum.intensity))"
   ]
  },
  {
   "attachments": {},
   "cell_type": "markdown",
   "metadata": {},
   "source": [
    "Instantiate `Simulation` object"
   ]
  },
  {
   "cell_type": "code",
   "execution_count": null,
   "metadata": {},
   "outputs": [],
   "source": [
    "from microsim.schema.optical_config import lib\n",
    "\n",
    "sim = ms.Simulation(\n",
    "    truth_space=ms.ShapeScaleSpace(shape=(52, 512, 512), scale=(0.064, 0.064, 0.064)),\n",
    "    output_space={\"downscale\": 2},\n",
    "    sample=ms.Sample(\n",
    "        labels=[\n",
    "            ms.FluorophoreDistribution(\n",
    "                distribution=ms.CosemLabel(dataset=\"jrc_hela-3\", label=\"ne_pred\"),\n",
    "                fluorophore=\"mTurquoise\",\n",
    "            ),\n",
    "            ms.FluorophoreDistribution(\n",
    "                distribution=ms.CosemLabel(dataset=\"jrc_hela-3\", label=\"er-mem_pred\"),\n",
    "                fluorophore=\"EGFP\",\n",
    "            ),\n",
    "            ms.FluorophoreDistribution(\n",
    "                distribution=ms.CosemLabel(dataset=\"jrc_hela-3\", label=\"mito-mem_pred\"),\n",
    "                fluorophore=\"EYFP\",\n",
    "            ),\n",
    "        ]\n",
    "    ),\n",
    "    channels= [create_custom_channel(min_wave=460, max_wave=550)],\n",
    "    modality=ms.Confocal(pinhole_au=2),\n",
    "    detector=ms.CameraCCD(qe=0.82, read_noise=6),\n",
    "    output_path=\"h2-cf.tif\",\n",
    "    settings=ms.Settings(max_psf_radius_aus=2),\n",
    "    emission_bins=32,\n",
    "    light_powers=[3, 1, 1]\n",
    ")"
   ]
  },
  {
   "attachments": {},
   "cell_type": "markdown",
   "metadata": {},
   "source": [
    "### Simulate `ground_truth` array"
   ]
  },
  {
   "cell_type": "code",
   "execution_count": null,
   "metadata": {},
   "outputs": [],
   "source": [
    "gt = sim.ground_truth()\n",
    "print(gt.shape, gt.coords) # (F, Z, Y, X)"
   ]
  },
  {
   "cell_type": "code",
   "execution_count": null,
   "metadata": {},
   "outputs": [],
   "source": [
    "# Print the fluorophore distribution\n",
    "import matplotlib.pyplot as plt\n",
    "\n",
    "# Make MIP over z-axis\n",
    "gt_mip = gt.max(dim='z')\n",
    "\n",
    "cmaps = [\"Blues\", \"Greens\", \"Reds\", \"Grays\"]\n",
    "_, ax = plt.subplots(1, gt_mip.shape[0], figsize=(10, 5))\n",
    "for i in range(gt_mip.shape[0]):\n",
    "    ax[i].imshow(gt_mip[i, ...], cmap=cmaps[i])"
   ]
  },
  {
   "attachments": {},
   "cell_type": "markdown",
   "metadata": {},
   "source": [
    "### Get the spectral emission flux"
   ]
  },
  {
   "cell_type": "code",
   "execution_count": null,
   "metadata": {},
   "outputs": [],
   "source": [
    "em_img, em_spectra, em_binned_spectra = sim.spectral_emission_flux(gt, channel_idx=0)"
   ]
  },
  {
   "cell_type": "code",
   "execution_count": null,
   "metadata": {},
   "outputs": [],
   "source": [
    "# Print the emission image\n",
    "from microsim.schema.dimensions import Axis\n",
    "\n",
    "def normalize_global(data):\n",
    "    min_val = data.min().item()\n",
    "    max_val = data.max().item()\n",
    "    normalized_data = ((data - min_val) / (max_val - min_val) * 65535).astype(np.uint16)\n",
    "    return normalized_data\n",
    "\n",
    "fluor1_em_img = em_img[:, :, 0, ...].squeeze()\n",
    "fluor2_em_img = em_img[:, :, 1, ...].squeeze()\n",
    "fluor3_em_img = em_img[:, :, 2, ...].squeeze()\n",
    "mixed_em_img = em_img[:, :, 3, ...].squeeze()\n",
    "\n",
    "fluor1_em_mip = fluor1_em_img.max(dim=Axis.Z)\n",
    "fluor2_em_mip = fluor2_em_img.max(dim=Axis.Z)\n",
    "fluor3_em_mip = fluor3_em_img.max(dim=Axis.Z)\n",
    "mixed_em_mip = mixed_em_img.max(dim=Axis.Z)\n",
    "\n",
    "norm_fluor1_em_mip = normalize_global(fluor1_em_mip)\n",
    "norm_fluor2_em_mip = normalize_global(fluor2_em_mip)\n",
    "norm_fluor3_em_mip = normalize_global(fluor3_em_mip)\n",
    "norm_mixed_em_mip = normalize_global(mixed_em_mip)\n",
    "\n",
    "_, ax = plt.subplots(4, 3, figsize=(15, 20))\n",
    "ax[0,0].imshow(norm_fluor1_em_mip[1, ...], cmap=\"Grays\")\n",
    "ax[0,1].imshow(norm_fluor1_em_mip[5, ...], cmap=\"Greens\")\n",
    "ax[0,2].imshow(abs(norm_fluor1_em_mip[1, ...] - norm_fluor1_em_mip[5, ...]), cmap=\"Reds\")\n",
    "ax[1,0].imshow(norm_fluor2_em_mip[6, ...], cmap=\"Grays\")\n",
    "ax[1,1].imshow(norm_fluor2_em_mip[13, ...], cmap=\"Greens\")\n",
    "ax[1,2].imshow(abs(norm_fluor2_em_mip[6, ...] - norm_fluor2_em_mip[13, ...]), cmap=\"Reds\")\n",
    "ax[2,0].imshow(norm_fluor3_em_mip[10, ...], cmap=\"Grays\")\n",
    "ax[2,1].imshow(norm_fluor3_em_mip[14, ...], cmap=\"Greens\")\n",
    "ax[2,2].imshow(abs(norm_fluor3_em_mip[10, ...] - norm_fluor3_em_mip[14, ...]), cmap=\"Reds\")\n",
    "ax[3,0].imshow(norm_mixed_em_mip[7, ...], cmap=\"Grays\")\n",
    "ax[3,1].imshow(norm_mixed_em_mip[12, ...], cmap=\"Greens\")\n",
    "ax[3,2].imshow(abs(norm_mixed_em_mip[7, ...] - norm_mixed_em_mip[12, ...]), cmap=\"Reds\")"
   ]
  },
  {
   "attachments": {},
   "cell_type": "markdown",
   "metadata": {},
   "source": [
    "### Get the optical image (new approach)"
   ]
  },
  {
   "cell_type": "code",
   "execution_count": null,
   "metadata": {},
   "outputs": [],
   "source": [
    "sim.spectral_image = True\n",
    "opt_img = sim.optical_image(em_img, channel_idx=0)"
   ]
  },
  {
   "cell_type": "code",
   "execution_count": null,
   "metadata": {},
   "outputs": [],
   "source": [
    "fluor1_opt_img = opt_img[:, :, 0, ...].squeeze()\n",
    "fluor2_opt_img = opt_img[:, :, 1, ...].squeeze()\n",
    "fluor3_opt_img = opt_img[:, :, 2, ...].squeeze()\n",
    "mixed_opt_img = opt_img[:, :, 3, ...].squeeze()\n",
    "\n",
    "fluor1_opt_mip = fluor1_opt_img.max(dim=Axis.Z)\n",
    "fluor2_opt_mip = fluor2_opt_img.max(dim=Axis.Z)\n",
    "fluor3_opt_mip = fluor3_opt_img.max(dim=Axis.Z)\n",
    "mixed_opt_mip = mixed_opt_img.max(dim=Axis.Z)\n",
    "\n",
    "norm_fluor1_opt_mip = normalize_global(fluor1_opt_mip)\n",
    "norm_fluor2_opt_mip = normalize_global(fluor2_opt_mip)\n",
    "norm_fluor3_opt_mip = normalize_global(fluor3_opt_mip)\n",
    "norm_mixed_opt_mip = normalize_global(mixed_opt_mip)\n",
    "\n",
    "_, ax = plt.subplots(4, 3, figsize=(15, 20))\n",
    "ax[0,0].imshow(norm_fluor1_opt_mip[1, ...], cmap=\"Grays\")\n",
    "ax[0,0].set_title(\"A first spectral band\")\n",
    "ax[0,1].imshow(norm_fluor1_opt_mip[5, ...], cmap=\"Grays\")\n",
    "ax[0,1].set_title(\"Another spectral band\")\n",
    "ax[0,2].imshow(abs(norm_fluor1_opt_mip[1, ...] - norm_fluor1_opt_mip[5, ...]), cmap=\"Reds\")\n",
    "ax[0,2].set_title(\"Abs Difference\")\n",
    "ax[1,0].imshow(norm_fluor2_opt_mip[6, ...], cmap=\"Grays\")\n",
    "ax[1,1].imshow(norm_fluor2_opt_mip[13, ...], cmap=\"Grays\")\n",
    "ax[1,2].imshow(abs(norm_fluor2_opt_mip[6, ...] - norm_fluor2_opt_mip[13, ...]), cmap=\"Reds\")\n",
    "ax[2,0].imshow(norm_fluor3_opt_mip[10, ...], cmap=\"Grays\")\n",
    "ax[2,1].imshow(norm_fluor3_opt_mip[14, ...], cmap=\"Grays\")\n",
    "ax[2,2].imshow(abs(norm_fluor3_opt_mip[10, ...] - norm_fluor3_opt_mip[14, ...]), cmap=\"Reds\")\n",
    "ax[3,0].imshow(norm_mixed_opt_mip[8, ...], cmap=\"Grays\")\n",
    "ax[3,1].imshow(norm_mixed_opt_mip[12, ...], cmap=\"Grays\")\n",
    "ax[3,2].imshow(abs(norm_mixed_opt_mip[8, ...] - norm_mixed_opt_mip[12, ...]), cmap=\"Reds\")"
   ]
  },
  {
   "attachments": {},
   "cell_type": "markdown",
   "metadata": {},
   "source": [
    "### Get the digital image"
   ]
  },
  {
   "cell_type": "code",
   "execution_count": null,
   "metadata": {},
   "outputs": [],
   "source": [
    "exposure = 100\n",
    "digital_img = sim.digital_image(opt_img, exposure_ms=exposure)"
   ]
  },
  {
   "cell_type": "code",
   "execution_count": null,
   "metadata": {},
   "outputs": [],
   "source": [
    "fluor1_digital_img = digital_img[:, :, 0, ...].squeeze()\n",
    "fluor2_digital_img = digital_img[:, :, 1, ...].squeeze()\n",
    "fluor3_digital_img = digital_img[:, :, 2, ...].squeeze()\n",
    "mixed_digital_img = digital_img[:, :, 3, ...].squeeze()\n",
    "\n",
    "# norm_fluor1_digital_img = normalize_global(fluor1_digital_img)\n",
    "# norm_fluor2_digital_img = normalize_global(fluor2_digital_img)\n",
    "# norm_fluor3_digital_img = normalize_global(fluor3_digital_img)\n",
    "# norm_mixed_digital_img = normalize_global(mixed_digital_img)\n",
    "\n",
    "fluor1_digital_mip = fluor1_digital_img.max(dim=Axis.Z)\n",
    "fluor2_digital_mip = fluor2_digital_img.max(dim=Axis.Z)\n",
    "fluor3_digital_mip = fluor3_digital_img.max(dim=Axis.Z)\n",
    "mixed_digital_mip = mixed_digital_img.max(dim=Axis.Z)\n",
    "\n",
    "norm_fluor1_digital_mip = normalize_global(fluor1_digital_mip)\n",
    "norm_fluor2_digital_mip = normalize_global(fluor2_digital_mip)\n",
    "norm_fluor3_digital_mip = normalize_global(fluor3_digital_mip)\n",
    "norm_mixed_digital_mip = normalize_global(mixed_digital_mip)\n",
    "\n",
    "_, ax = plt.subplots(4, 3, figsize=(15, 20))\n",
    "ax[0,0].imshow(norm_fluor1_digital_mip[1, ...], cmap=\"Grays\")\n",
    "ax[0,0].set_title(\"A first spectral band\")\n",
    "ax[0,1].imshow(norm_fluor1_digital_mip[5, ...], cmap=\"Grays\")\n",
    "ax[0,1].set_title(\"Another spectral band\")\n",
    "ax[0,2].imshow(abs(norm_fluor1_digital_mip[1, ...] - norm_fluor1_digital_mip[5, ...]), cmap=\"Reds\")\n",
    "ax[0,2].set_title(\"Abs Difference\")\n",
    "ax[1,0].imshow(norm_fluor2_digital_mip[6, ...], cmap=\"Grays\")\n",
    "ax[1,1].imshow(norm_fluor2_digital_mip[13, ...], cmap=\"Grays\")\n",
    "ax[1,2].imshow(abs(norm_fluor2_digital_mip[6, ...] - norm_fluor2_digital_mip[13, ...]), cmap=\"Reds\")\n",
    "ax[2,0].imshow(norm_fluor3_digital_mip[10, ...], cmap=\"Grays\")\n",
    "ax[2,1].imshow(norm_fluor3_digital_mip[14, ...], cmap=\"Grays\")\n",
    "ax[2,2].imshow(abs(norm_fluor3_digital_mip[10, ...] - norm_fluor3_digital_mip[14, ...]), cmap=\"Reds\")\n",
    "ax[3,0].imshow(norm_mixed_digital_mip[8, ...], cmap=\"Grays\")\n",
    "ax[3,1].imshow(norm_mixed_digital_mip[12, ...], cmap=\"Grays\")\n",
    "ax[3,2].imshow(abs(norm_mixed_digital_mip[8, ...] - norm_mixed_digital_mip[12, ...]), cmap=\"Reds\")"
   ]
  },
  {
   "cell_type": "code",
   "execution_count": null,
   "metadata": {},
   "outputs": [],
   "source": [
    "# import napari\n",
    "\n",
    "# viewer = napari.Viewer()\n",
    "# viewer.add_image(norm_fluor1_digital_mip, name=\"Fluorophore 1\", colormap=\"blue\", blending=\"additive\",  contrast_limits=(0, 65535))\n",
    "# viewer.add_image(norm_fluor2_digital_mip, name=\"Fluorophore 2\", colormap=\"yellow\", blending=\"additive\",  contrast_limits=(0, 65535))\n",
    "# viewer.add_image(norm_fluor3_digital_mip, name=\"Fluorophore 3\", colormap=\"red\", blending=\"additive\",  contrast_limits=(0, 65535))\n",
    "# viewer.add_image(norm_mixed_digital_mip, name=\"Mixed\", blending=\"additive\",  contrast_limits=(0, 65535))\n",
    "\n",
    "# viewer.add_image(norm_fluor1_digital_img, name=\"Fluorophore 1\", colormap=\"blue\", blending=\"additive\", contrast_limits=(0, 65535))\n",
    "# viewer.add_image(norm_fluor2_digital_img, name=\"Fluorophore 2\", colormap=\"yellow\", blending=\"additive\", contrast_limits=(0, 65535))\n",
    "# viewer.add_image(norm_fluor3_digital_img, name=\"Fluorophore 3\", colormap=\"red\", blending=\"additive\", contrast_limits=(0, 65535))\n",
    "# viewer.add_image(norm_mixed_digital_img, name=\"Mixed\", blending=\"additive\", contrast_limits=(0, 65535))"
   ]
  },
  {
   "attachments": {},
   "cell_type": "markdown",
   "metadata": {},
   "source": [
    "### Save files "
   ]
  },
  {
   "cell_type": "code",
   "execution_count": null,
   "metadata": {},
   "outputs": [],
   "source": [
    "import os\n",
    "import datetime\n",
    "import tifffile as tiff\n",
    "\n",
    "def get_unique_directory_path(base_path):\n",
    "    version = 0\n",
    "    new_path = f\"{base_path}_v{version}\"\n",
    "    \n",
    "    while os.path.exists(new_path):\n",
    "        version += 1\n",
    "        new_path = f\"{base_path}_v{version}\"\n",
    "    \n",
    "    return new_path"
   ]
  },
  {
   "cell_type": "code",
   "execution_count": null,
   "metadata": {},
   "outputs": [],
   "source": [
    "current_date = datetime.date.today()\n",
    "formatted_date = current_date.strftime(\"%y%m%d\")\n",
    "\n",
    "ROOT_DIR = \"/group/jug/federico/microsim/sim_spectral_data/\"\n",
    "current_dir = os.path.join(ROOT_DIR, formatted_date)\n",
    "current_dir = get_unique_directory_path(current_dir)\n",
    "\n",
    "imgs_dir = os.path.join(current_dir, \"imgs\")\n",
    "os.makedirs(imgs_dir, exist_ok=True)\n",
    "mips_dir = os.path.join(current_dir, \"mips\")\n",
    "os.makedirs(mips_dir, exist_ok=True)\n",
    "\n",
    "print(current_dir)"
   ]
  },
  {
   "cell_type": "code",
   "execution_count": null,
   "metadata": {},
   "outputs": [],
   "source": [
    "# Save metadata (coordinates, wavelengths, channels)\n",
    "import json\n",
    "\n",
    "w_bins = [\n",
    "    (em_img.coords[Axis.W].values[i].left, em_img.coords[Axis.W].values[i].right)\n",
    "    for i in range(len(em_img.coords[Axis.W].values))\n",
    "]\n",
    "\n",
    "coords_info = {\n",
    "    \"x_coords\": gt.coords[Axis.X].values.tolist(),\n",
    "    \"y_coords\": gt.coords[Axis.Y].values.tolist(),\n",
    "    \"z_coords\": gt.coords[Axis.Z].values.tolist(),\n",
    "    \"w_bins\": w_bins,\n",
    "}\n",
    "\n",
    "sim_metadata = {\n",
    "    \"fluorophores\": [fp.fluorophore.name for fp in gt.coords[Axis.F].values],\n",
    "    \"light_powers\": sim.light_powers,\n",
    "    \"downscale\": sim.output_space.downscale,\n",
    "    \"detect_exposure_ms\": exposure,\n",
    "    \"detect_quantum_eff\": sim.detector.qe,\n",
    "    \"min_max_wavelength\": [460, 550],\n",
    "}\n",
    "\n",
    "with open(os.path.join(current_dir, \"sim_coords.json\"), \"w\") as f:\n",
    "    json.dump(coords_info, f)\n",
    "    \n",
    "with open(os.path.join(current_dir, \"sim_metadata.json\"), \"w\") as f:\n",
    "    json.dump(sim_metadata, f)"
   ]
  },
  {
   "cell_type": "markdown",
   "metadata": {},
   "source": [
    "We compute microscopy ground truth as the sum of the intensities over all the spectral bands"
   ]
  },
  {
   "cell_type": "code",
   "execution_count": null,
   "metadata": {},
   "outputs": [],
   "source": [
    "fluor1_em_img_gt = fluor1_em_img.sum(dim=Axis.W)\n",
    "fluor2_em_img_gt = fluor2_em_img.sum(dim=Axis.W)\n",
    "fluor3_em_img_gt = fluor3_em_img.sum(dim=Axis.W)\n",
    "\n",
    "fluor1_opt_img_gt = fluor1_opt_img.sum(dim=Axis.W)\n",
    "fluor2_opt_img_gt = fluor2_opt_img.sum(dim=Axis.W)\n",
    "fluor3_opt_img_gt = fluor3_opt_img.sum(dim=Axis.W)\n",
    "\n",
    "fluor1_digital_img_gt = fluor1_digital_img.sum(dim=Axis.W)\n",
    "fluor2_digital_img_gt = fluor2_digital_img.sum(dim=Axis.W)\n",
    "fluor3_digital_img_gt = fluor3_digital_img.sum(dim=Axis.W)"
   ]
  },
  {
   "cell_type": "code",
   "execution_count": null,
   "metadata": {},
   "outputs": [],
   "source": [
    "# Normalize images\n",
    "norm_fluor1_em_img_gt = normalize_global(fluor1_em_img_gt)\n",
    "norm_fluor2_em_img_gt = normalize_global(fluor2_em_img_gt)\n",
    "norm_fluor3_em_img_gt = normalize_global(fluor3_em_img_gt)\n",
    "norm_mixed_em_img = normalize_global(mixed_em_img)\n",
    "\n",
    "norm_fluor1_opt_img_gt = normalize_global(fluor1_opt_img_gt)\n",
    "norm_fluor2_opt_img_gt = normalize_global(fluor2_opt_img_gt)\n",
    "norm_fluor3_opt_img_gt = normalize_global(fluor3_opt_img_gt)\n",
    "norm_mixed_opt_img = normalize_global(mixed_opt_img)\n",
    "\n",
    "norm_fluor1_digital_img_gt = normalize_global(fluor1_digital_img_gt)\n",
    "norm_fluor2_digital_img_gt = normalize_global(fluor2_digital_img_gt)\n",
    "norm_fluor3_digital_img_gt = normalize_global(fluor3_digital_img_gt)\n",
    "norm_mixed_digital_img = normalize_global(mixed_digital_img)"
   ]
  },
  {
   "cell_type": "code",
   "execution_count": null,
   "metadata": {},
   "outputs": [],
   "source": [
    "# Save ground truth\n",
    "tiff.imwrite(os.path.join(current_dir, \"ground_truth_img.tif\"), gt.data)"
   ]
  },
  {
   "cell_type": "code",
   "execution_count": null,
   "metadata": {},
   "outputs": [],
   "source": [
    "# Save emission images 3D\n",
    "tiff.imwrite(os.path.join(imgs_dir, \"emission_fluor1_gt.tif\"), norm_fluor1_em_img_gt.data)\n",
    "tiff.imwrite(os.path.join(imgs_dir, \"emission_fluor2_gt.tif\"), norm_fluor2_em_img_gt.data)\n",
    "tiff.imwrite(os.path.join(imgs_dir, \"emission_fluor3_gt.tif\"), norm_fluor3_em_img_gt.data)\n",
    "tiff.imwrite(os.path.join(imgs_dir, \"emission_mixed.tif\"), norm_mixed_em_img.data)\n",
    "\n",
    "# Save optical images 3D\n",
    "tiff.imwrite(os.path.join(imgs_dir, \"optical_fluor1_gt.tif\"), norm_fluor1_opt_img_gt.data)\n",
    "tiff.imwrite(os.path.join(imgs_dir, \"optical_fluor2_gt.tif\"), norm_fluor2_opt_img_gt.data)\n",
    "tiff.imwrite(os.path.join(imgs_dir, \"optical_fluor3_gt.tif\"), norm_fluor3_opt_img_gt.data)\n",
    "tiff.imwrite(os.path.join(imgs_dir, \"optical_mixed.tif\"), norm_mixed_opt_img.data)\n",
    "\n",
    "# Save digital images 3D\n",
    "tiff.imwrite(os.path.join(imgs_dir, \"digital_fluor1_gt.tif\"), norm_fluor1_digital_img_gt.data)\n",
    "tiff.imwrite(os.path.join(imgs_dir, \"digital_fluor2_gt.tif\"), norm_fluor2_digital_img_gt.data)\n",
    "tiff.imwrite(os.path.join(imgs_dir, \"digital_fluor3_gt.tif\"), norm_fluor3_digital_img_gt.data)\n",
    "tiff.imwrite(os.path.join(imgs_dir, \"digital_mixed.tif\"), norm_mixed_digital_img.data)"
   ]
  },
  {
   "cell_type": "code",
   "execution_count": null,
   "metadata": {},
   "outputs": [],
   "source": [
    "# Save maximum intensity projections (to have lighter data to experiment with)\n",
    "\n",
    "# Save emission images 2D\n",
    "# tiff.imwrite(os.path.join(mips_dir, \"emission_fluor1_mip.tif\"), norm_fluor1_em_mip.data)\n",
    "# tiff.imwrite(os.path.join(mips_dir, \"emission_fluor2_mip.tif\"), norm_fluor2_em_mip.data)\n",
    "# tiff.imwrite(os.path.join(mips_dir, \"emission_fluor3_mip.tif\"), norm_fluor3_em_mip.data)\n",
    "tiff.imwrite(os.path.join(mips_dir, \"emission_mixed_mip.tif\"), norm_mixed_em_mip.data)\n",
    "\n",
    "# Save optical images 2D\n",
    "# tiff.imwrite(os.path.join(mips_dir, \"optical_fluor1_mip.tif\"), norm_fluor1_opt_mip.data)\n",
    "# tiff.imwrite(os.path.join(mips_dir, \"optical_fluor2_mip.tif\"), norm_fluor2_opt_mip.data)\n",
    "# tiff.imwrite(os.path.join(mips_dir, \"optical_fluor3_mip.tif\"), norm_fluor3_opt_mip.data)\n",
    "tiff.imwrite(os.path.join(mips_dir, \"optical_mixed_mip.tif\"), norm_mixed_opt_mip.data)\n",
    "\n",
    "# Save digital images 2D\n",
    "# tiff.imwrite(os.path.join(mips_dir, \"digital_fluor1_mip.tif\"), norm_fluor1_digital_mip.data)\n",
    "# tiff.imwrite(os.path.join(mips_dir, \"digital_fluor2_mip.tif\"), norm_fluor2_digital_mip.data)\n",
    "# tiff.imwrite(os.path.join(mips_dir, \"digital_fluor3_mip.tif\"), norm_fluor3_digital_mip.data)\n",
    "tiff.imwrite(os.path.join(mips_dir, \"digital_mixed_mip.tif\"), norm_mixed_digital_mip.data)"
   ]
  }
 ],
 "metadata": {
  "kernelspec": {
   "display_name": "microsim_env",
   "language": "python",
   "name": "python3"
  },
  "language_info": {
   "codemirror_mode": {
    "name": "ipython",
    "version": 3
   },
   "file_extension": ".py",
   "mimetype": "text/x-python",
   "name": "python",
   "nbconvert_exporter": "python",
   "pygments_lexer": "ipython3",
   "version": "3.11.9"
  }
 },
 "nbformat": 4,
 "nbformat_minor": 2
}
