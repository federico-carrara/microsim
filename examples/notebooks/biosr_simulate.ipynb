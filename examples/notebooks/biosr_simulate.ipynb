{
 "cells": [
  {
   "cell_type": "code",
   "execution_count": 1,
   "metadata": {},
   "outputs": [],
   "source": [
    "from typing import Literal, Sequence\n",
    "\n",
    "import xarray as xr\n",
    "\n",
    "from microsim import schema as ms\n",
    "from microsim.schema.optical_config.lib import spectral_detector\n",
    "from microsim.schema.optical_config import OpticalConfig"
   ]
  },
  {
   "cell_type": "code",
   "execution_count": null,
   "metadata": {},
   "outputs": [],
   "source": [
    "# --- Set simulation parameters\n",
    "labels: str = [\"ER\", \"F-actin\", \"Microtubules\", \"CCPs\", \"F-actin_Nonlinear\"]\n",
    "\"\"\"The labels of the structures to simulate.\"\"\"\n",
    "fluorophores: str = [\"mTurquoise\", \"EGFP\", \"EYFP\", \"tdTomato\", \"mCherry\"]\n",
    "\"\"\"The fluorophores associated with the structures to simulate.\"\"\"\n",
    "num_bands: int = 32\n",
    "\"\"\"The number of spectral bands to acquire (i.e., physically, the number of cameras).\"\"\"\n",
    "light_wavelengths: Sequence[int] = [435, 488, 514, 555, 586]\n",
    "\"\"\"List of lasers to use for excitation.\"\"\"\n",
    "light_powers: Sequence[float] = [4., 3., 1., 1., 6.]\n",
    "\"\"\"List of powers associate to each light source (work as scaling factors).\"\"\"\n",
    "out_range: tuple[int, int] = (450, 650)\n",
    "\"\"\"The range of wavelengths of the acquired spectrum in nm.\"\"\"\n",
    "exposure_ms: float = 5\n",
    "\"\"\"The exposure time for the detector cameras in ms.\"\"\"\n",
    "bp_bandwidth: int = 5\n",
    "\"\"\"The bandwidth of the bandpass filters used in the Beam Splitter (in nm).\"\"\""
   ]
  },
  {
   "cell_type": "code",
   "execution_count": 33,
   "metadata": {},
   "outputs": [],
   "source": [
    "def create_distribution(\n",
    "    label: Literal[\"CCPs\", \"ER\", \"F-actin\", \"Microtubules\", \"F-actin_Nonlinear\"],\n",
    "    fluorophore: str,\n",
    "    root_dir: str,\n",
    "    idx: int | None = None, \n",
    ") -> ms.FluorophoreDistribution:\n",
    "    return ms.FluorophoreDistribution(\n",
    "        distribution=ms.BioSR(root_dir=root_dir, label=label),\n",
    "        fluorophore=fluorophore, \n",
    "        img_idx=idx,  \n",
    "    )\n",
    "\n",
    "def init_simulation(\n",
    "    labels: list[Literal[\"CCPs\", \"ER\", \"F-actin\", \"Microtubules\", \"F-actin_Nonlinear\"]],\n",
    "    fluorophores: list[str],\n",
    "    root_dir: str,\n",
    "    channels: Sequence[OpticalConfig],\n",
    "    detector_qe: float = 0.8,\n",
    ") -> ms.Simulation:\n",
    "    assert len(labels) == len(fluorophores)\n",
    "    \n",
    "    custom_cache_settings = ms.settings.CacheSettings(\n",
    "        read=False,\n",
    "        write=False,\n",
    "    )\n",
    "    # create the GT sample\n",
    "    sample = ms.Sample(\n",
    "        labels=[\n",
    "            create_distribution(label, fp, root_dir) \n",
    "            for label, fp in zip(labels, fluorophores)\n",
    "        ]\n",
    "    )\n",
    "    \n",
    "    return ms.Simulation(\n",
    "        truth_space=ms.ShapeScaleSpace(shape=(1, 1004, 1004), scale=(0.02, 0.02, 0.02)),\n",
    "        output_space={\"downscale\": (1, 4, 4)},\n",
    "        sample=sample,\n",
    "        channels=channels,\n",
    "        modality=ms.Identity(),\n",
    "        settings=ms.Settings(\n",
    "            cache=custom_cache_settings, spectral_bins_per_emission_channel=1\n",
    "        ),\n",
    "        detector=ms.CameraCCD(qe=detector_qe, read_noise=6, bit_depth=12),\n",
    "    )\n",
    "\n",
    "    \n",
    "def run_simulation(sim: ms.Simulation) -> tuple[xr.DataArray]:\n",
    "    gt = sim.ground_truth()\n",
    "    print(f\"Ground truth: {gt.sizes}\") # (F, Z, Y, X)\n",
    "    print(\"----------------------------------\")\n",
    "    em_img = sim.emission_flux()\n",
    "    print(f\"Emission image: {em_img.sizes}\") # (C, F, Z, Y, X)\n",
    "    print(\"----------------------------------\")\n",
    "    opt_img_per_fluor = sim.optical_image_per_fluor() # (C, F, Z, Y, X)\n",
    "    opt_img = opt_img_per_fluor.sum(\"f\")\n",
    "    print(f\"Optical image: {opt_img.sizes}\") # (C, Z, Y, X)\n",
    "    print(\"----------------------------------\")\n",
    "    dig_img_per_fluor = sim.digital_image(opt_img_per_fluor)\n",
    "    digital_img = sim.digital_image(opt_img)\n",
    "    print(f\"Digital image: {digital_img.sizes}\") # (C, Z, Y, X)\n",
    "    print(\"----------------------------------\")    \n",
    "    return em_img, opt_img_per_fluor, dig_img_per_fluor, digital_img\n",
    "\n",
    "\n",
    "def simulate_dataset(\n",
    "    labels: list[Literal[\"CCPs\", \"ER\", \"F-actin\", \"Microtubules\", \"F-actin_Nonlinear\",]],\n",
    "    fluorophores: list[str],\n",
    "    num_simulations: int,\n",
    "    root_dir: str,\n",
    "    detect_channels: Sequence[OpticalConfig],\n",
    "    detector_qe: float = 0.8,\n",
    ") -> list[xr.DataArray]:\n",
    "    sim_imgs = []\n",
    "    for i in range(num_simulations):\n",
    "        print(\"----------------------------------\")\n",
    "        print(f\"SIMULATING IMAGE {i+1}\")\n",
    "        print(\"----------------------------------\")\n",
    "        sim = init_simulation(\n",
    "            labels=labels, \n",
    "            fluorophores=fluorophores, \n",
    "            root_dir=root_dir,\n",
    "            channels=detect_channels,\n",
    "            detector_qe=detector_qe\n",
    "        )\n",
    "        sim_imgs.append(run_simulation(sim)) \n",
    "        \n",
    "    # Create simulation metadata\n",
    "    sim_metadata = {\n",
    "        \"structures\": labels, \n",
    "        \"fluorophores\": fluorophores,\n",
    "        \"shape\": list(sim_imgs[0].shape[2:]),\n",
    "        \"downscale\": sim.output_space.downscale,\n",
    "        \"detect_exposure_ms\": exposure_ms,\n",
    "        \"detect_quantum_eff\": detector_qe,\n",
    "        \"light_powers\": light_powers,\n",
    "        \"light_wavelengths\": light_wavelengths,\n",
    "        \"wavelength_range\": out_range,\n",
    "        \"dtype\": str(sim_imgs[0].dtype),\n",
    "    }\n",
    "    return sim_imgs, sim_metadata\n"
   ]
  },
  {
   "cell_type": "code",
   "execution_count": 34,
   "metadata": {},
   "outputs": [],
   "source": [
    "ROOT_DIR = \"/group/jug/federico/careamics_training/data/BioSR\"\n",
    "SAVE_DIR = \"/group/jug/federico/microsim/BIOSR_spectral_data\"\n",
    "\n",
    "detect_channels = spectral_detector(\n",
    "    bins=num_bands,\n",
    "    min_wave=out_range[0],\n",
    "    max_wave=out_range[1],\n",
    "    lasers=light_wavelengths,\n",
    "    powers=light_powers,\n",
    "    exposure_ms=exposure_ms,\n",
    "    bp_bandwidth=bp_bandwidth,\n",
    ")\n",
    "\n",
    "sim = init_simulation(\n",
    "    labels=labels,\n",
    "    fluorophores=fluorophores,\n",
    "    root_dir=ROOT_DIR,\n",
    "    channels=detect_channels,\n",
    "    detector_qe=0.8,\n",
    ")"
   ]
  },
  {
   "cell_type": "code",
   "execution_count": null,
   "metadata": {},
   "outputs": [],
   "source": [
    "em, opt, dig_per_fluor, dig = run_simulation(sim)"
   ]
  },
  {
   "cell_type": "code",
   "execution_count": null,
   "metadata": {},
   "outputs": [],
   "source": [
    "em.shape, opt.shape, dig_per_fluor.shape, dig.shape"
   ]
  },
  {
   "cell_type": "code",
   "execution_count": null,
   "metadata": {},
   "outputs": [],
   "source": [
    "import matplotlib.pyplot as plt\n",
    "_, ax = plt.subplots(len(labels), 5, figsize=(15, 3*len(labels)))\n",
    "for i in range(len(fluorophores)):\n",
    "    ax[i, 0].imshow(em[2, i, 0])\n",
    "    ax[i, 1].imshow(em[8, i, 0])\n",
    "    ax[i, 2].imshow(em[14, i, 0])\n",
    "    ax[i, 3].imshow(em[20, i, 0])\n",
    "    ax[i, 4].imshow(em[26, i, 0])\n",
    "\n",
    "em1=em[14, i, 0]\n",
    "em2=em[20, i, 0]\n",
    "em3=em[26, i, 0]\n",
    "print(em1.mean().item(), em2.mean().item(), em3.mean().item())\n",
    "print(em1.std().item(), em2.std().item(), em3.std().item())"
   ]
  },
  {
   "cell_type": "code",
   "execution_count": null,
   "metadata": {},
   "outputs": [],
   "source": [
    "import matplotlib.pyplot as plt\n",
    "_, ax = plt.subplots(len(labels), 5, figsize=(15, 3*len(labels)))\n",
    "for i in range(len(fluorophores)):\n",
    "    ax[i, 0].imshow(opt[2, i, 0])\n",
    "    ax[i, 1].imshow(opt[8, i, 0])\n",
    "    ax[i, 2].imshow(opt[14, i, 0])\n",
    "    ax[i, 3].imshow(opt[20, i, 0])\n",
    "    ax[i, 4].imshow(opt[26, i, 0])\n",
    "\n",
    "opt1=opt[14, i, 0]\n",
    "opt2=opt[20, i, 0]\n",
    "opt3=opt[26, i, 0]\n",
    "print(opt1.mean().item(), opt2.mean().item(), opt3.mean().item())\n",
    "print(opt1.std().item(), opt2.std().item(), opt3.std().item())"
   ]
  },
  {
   "cell_type": "code",
   "execution_count": null,
   "metadata": {},
   "outputs": [],
   "source": [
    "import matplotlib.pyplot as plt\n",
    "_, ax = plt.subplots(len(labels), 5, figsize=(15, 3*len(labels)))\n",
    "for i in range(len(fluorophores)):\n",
    "    ax[i, 0].imshow(dig_per_fluor[2, i, 0])\n",
    "    ax[i, 1].imshow(dig_per_fluor[8, i, 0])\n",
    "    ax[i, 2].imshow(dig_per_fluor[14, i, 0])\n",
    "    ax[i, 3].imshow(dig_per_fluor[20, i, 0])\n",
    "    ax[i, 4].imshow(dig_per_fluor[26, i, 0])\n",
    "\n",
    "dig_per_fluor1=dig_per_fluor[14, i, 0]\n",
    "dig_per_fluor2=dig_per_fluor[20, i, 0]\n",
    "dig_per_fluor3=dig_per_fluor[26, i, 0]\n",
    "print(dig_per_fluor1.mean().item(), dig_per_fluor2.mean().item(), dig_per_fluor3.mean().item())\n",
    "print(dig_per_fluor1.std().item(),  dig_per_fluor2.std().item(),  dig_per_fluor3.std().item())"
   ]
  },
  {
   "cell_type": "code",
   "execution_count": null,
   "metadata": {},
   "outputs": [],
   "source": [
    "from microsim.util import intensity_histograms\n",
    "\n",
    "intensity_histograms(em, \"Emission\", 1e6, 1.5e4)"
   ]
  },
  {
   "cell_type": "code",
   "execution_count": null,
   "metadata": {},
   "outputs": [],
   "source": [
    "from microsim.util import view_multi_channel\n",
    "view_multi_channel([dig[:, 0]])"
   ]
  },
  {
   "cell_type": "code",
   "execution_count": 25,
   "metadata": {},
   "outputs": [],
   "source": [
    "fps = [label.fluorophore for label in sim.sample.labels]"
   ]
  },
  {
   "cell_type": "code",
   "execution_count": null,
   "metadata": {},
   "outputs": [],
   "source": [
    "_, ax = plt.subplots(len(fluorophores)+1, 2, figsize=(20, 3*(len(fluorophores)+1)))\n",
    "for i in range(len(fluorophores)):\n",
    "    ax[i, 0].plot(em[:, i, ...].max(axis=(1, 2, 3)))\n",
    "    ax[i, 1].plot(fps[i].emission_spectrum.wavelength, fps[i].emission_spectrum.intensity)\n",
    "    ax[i, 1].set_xlim(out_range)\n",
    "ax[-1, 0].plot(em.sum(axis=1).max(axis=(1, 2, 3)))\n",
    "em_sp_tot = fps[0].emission_spectrum\n",
    "for i in range(1, len(fluorophores)):\n",
    "    em_sp_tot += fps[i].emission_spectrum\n",
    "ax[-1, 1].plot(em_sp_tot.wavelength, em_sp_tot.intensity)\n",
    "ax[-1, 1].set_xlim(out_range)\n"
   ]
  },
  {
   "cell_type": "code",
   "execution_count": null,
   "metadata": {},
   "outputs": [],
   "source": [
    "tiff.imsave(\"../digital_try.tif\", dig.values.astype(np.uint16))"
   ]
  },
  {
   "cell_type": "code",
   "execution_count": null,
   "metadata": {},
   "outputs": [],
   "source": [
    "res, sim_metadata = simulate_dataset(\n",
    "    labels=labels,\n",
    "    fluorophores=fluorophores,\n",
    "    num_simulations=100,\n",
    "    root_dir=ROOT_DIR\n",
    ")"
   ]
  }
 ],
 "metadata": {
  "kernelspec": {
   "display_name": "microsim_env",
   "language": "python",
   "name": "python3"
  },
  "language_info": {
   "codemirror_mode": {
    "name": "ipython",
    "version": 3
   },
   "file_extension": ".py",
   "mimetype": "text/x-python",
   "name": "python",
   "nbconvert_exporter": "python",
   "pygments_lexer": "ipython3",
   "version": "3.11.9"
  }
 },
 "nbformat": 4,
 "nbformat_minor": 2
}
